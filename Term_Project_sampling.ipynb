{
 "cells": [
  {
   "cell_type": "code",
   "execution_count": 1,
   "metadata": {},
   "outputs": [],
   "source": [
    "# Proton Flux data: 파일 확인 및 분리\n",
    "file = '/Users/chuck/Desktop/3-1/우주환경1/우주환경1 과제/GOES-15 p27e csv/total/g15_epead_p27e_32s.txt'\n",
    "with open(file, 'r') as F:\n",
    "    data = F.readlines()\n",
    "\n",
    "time_arr, p3e_flux, p4e_flux, p5e_flux, p6e_flux, p7e_flux = [[], [], [], [], [], []]\n",
    "p3e_flag, p4e_flag, p5e_flag, p6e_flag, p7e_flag = [[], [], [], [], []]\n",
    "\n",
    "for line in data:\n",
    "    line = line.strip()\n",
    "    column = line.split()\n",
    "    time_arr.append(column[0] + ' ' +column[1])\n",
    "    p3e_flag.append(float(column[5]))\n",
    "    p3e_flux.append(column[7])\n",
    "    p4e_flag.append(float(column[8]))\n",
    "    p4e_flux.append(column[10])\n",
    "    p5e_flag.append(float(column[11]))\n",
    "    p5e_flux.append(column[13])\n",
    "    p6e_flag.append(float(column[14]))\n",
    "    p6e_flux.append(column[16])\n",
    "    p7e_flag.append(float(column[17]))\n",
    "    p7e_flux.append(column[19])\n",
    "\n",
    "#print(time_arr[0:5])\n",
    "#print(p3e_flag)\n",
    "#print(p3e_flux)\n",
    "#print(len(time_arr))\n",
    "#print(len(p3e_flag))\n",
    "#print(len(data))"
   ]
  },
  {
   "cell_type": "code",
   "execution_count": 2,
   "metadata": {},
   "outputs": [],
   "source": [
    "# Proton Flux data: 이상 데이터 확인\n",
    "error_ind = []\n",
    "\n",
    "for i in range(len(p3e_flag)):\n",
    "    if p3e_flag[i] != 0.0:\n",
    "        error_ind.append(i)\n",
    "\n",
    "#print(error_ind)\n",
    "#print(len(error_ind))"
   ]
  },
  {
   "cell_type": "code",
   "execution_count": 3,
   "metadata": {},
   "outputs": [],
   "source": [
    "# Proton Flux data: DataFrame 설정\n",
    "import pandas as pd\n",
    "data = pd.DataFrame({'Time':time_arr, 'P3E_FLUX':p3e_flux, 'P4E_FLUX':p4e_flux, 'P5E_FLUX':p5e_flux, 'P6E_FLUX':p6e_flux, 'P7E_FLUX':p7e_flux})\n",
    "#print(data, type(data))"
   ]
  },
  {
   "cell_type": "code",
   "execution_count": 4,
   "metadata": {},
   "outputs": [],
   "source": [
    "# Proton Flux data: Time 열을 datetime으로 변경, '숫자' 자료형 부여\n",
    "data_p = data.copy()\n",
    "data_p['Time'] = pd.to_datetime(data_p['Time'])\n",
    "data_p['P3E_FLUX'] = pd.to_numeric(data_p['P3E_FLUX'])\n",
    "data_p['P4E_FLUX'] = pd.to_numeric(data_p['P4E_FLUX'])\n",
    "data_p['P5E_FLUX'] = pd.to_numeric(data_p['P5E_FLUX'])\n",
    "data_p['P6E_FLUX'] = pd.to_numeric(data_p['P6E_FLUX'])\n",
    "data_p['P7E_FLUX'] = pd.to_numeric(data_p['P7E_FLUX'])\n",
    "#print(data_p)\n",
    "#print(data_p.dtypes)"
   ]
  },
  {
   "cell_type": "code",
   "execution_count": 5,
   "metadata": {},
   "outputs": [],
   "source": [
    "# Proton Flux data: 보간을 위한 데이터 프레임 생성\n",
    "data_interp = data_p.copy()\n",
    "#print(data_interp.dtypes)\n",
    "\n",
    "#print(data_interp['P3E_FLUX'][0:10])"
   ]
  },
  {
   "cell_type": "code",
   "execution_count": 6,
   "metadata": {},
   "outputs": [],
   "source": [
    "# Proton Flux data: 데이터 보간\n",
    "import numpy as np\n",
    "import warnings\n",
    "warnings.filterwarnings('ignore')\n",
    "\n",
    "for i in error_ind:\n",
    "    data_interp['P3E_FLUX'][i] = np.nan\n",
    "    data_interp['P4E_FLUX'][i] = np.nan\n",
    "    data_interp['P5E_FLUX'][i] = np.nan\n",
    "    data_interp['P6E_FLUX'][i] = np.nan\n",
    "    data_interp['P7E_FLUX'][i] = np.nan\n",
    "data_interp.interpolate(method='linear', inplace=True)\n",
    "\n",
    "#print(data_interp['P3E_FLUX'][0:10])"
   ]
  },
  {
   "cell_type": "code",
   "execution_count": 7,
   "metadata": {},
   "outputs": [],
   "source": [
    "# Proton Flux data: resampling\n",
    "data_res = data_interp.copy()\n",
    "data_res = data_res.set_index('Time')\n",
    "data_res = data_res.resample('1T').mean()"
   ]
  },
  {
   "cell_type": "code",
   "execution_count": 8,
   "metadata": {},
   "outputs": [],
   "source": [
    "# Proton Flux data: resampled data 저장\n",
    "\n",
    "newfile = '/Users/chuck/Desktop/3-1/우주환경1/우주환경1 과제/GOES-15 p27e csv/total/g15_epead_p27e_32s_resampled.txt'\n",
    "data_res.to_csv(newfile)"
   ]
  },
  {
   "cell_type": "code",
   "execution_count": 9,
   "metadata": {},
   "outputs": [],
   "source": [
    "# X-ray Flux data: 파일 확인 및 분리\n",
    "file = '/Users/chuck/Desktop/3-1/우주환경1/우주환경1 과제/GOES-15 xrs csv/total/g15_xrs_2s.txt'\n",
    "with open(file, 'r') as F:\n",
    "    data = F.readlines()\n",
    "\n",
    "Time_arr, a_flux, b_flux = [[], [], []]\n",
    "a_flag, b_flag = [[], []]\n",
    "\n",
    "for line in data:\n",
    "    line = line.strip()\n",
    "    column = line.split()\n",
    "    Time_arr.append(column[0] + ' ' +column[1])\n",
    "    a_flag.append(float(column[2]))\n",
    "    a_flux.append(column[4])\n",
    "    b_flag.append(float(column[5]))\n",
    "    b_flux.append(column[7])\n",
    "\n",
    "#print(Time_arr[0:5])\n",
    "#print(p3e_flag)\n",
    "#print(p3e_flux)\n",
    "#print(len(time_arr))\n",
    "#print(len(p3e_flag))\n",
    "#print(len(data))\n",
    "#print(b_flux[:10])"
   ]
  },
  {
   "cell_type": "code",
   "execution_count": 10,
   "metadata": {},
   "outputs": [],
   "source": [
    "# X-ray Flux data: 이상 데이터가 있는지 확인\n",
    "Error_ind = []\n",
    "\n",
    "for i in range(len(a_flag)):\n",
    "    if a_flag[i] != 0.0:\n",
    "        Error_ind.append(i)\n",
    "\n",
    "#print(len(Error_ind))"
   ]
  },
  {
   "cell_type": "code",
   "execution_count": 11,
   "metadata": {},
   "outputs": [],
   "source": [
    "# X-ray Flux data: DateFrame\n",
    "import pandas as pd\n",
    "data = pd.DataFrame({'Time':Time_arr, 'A_FLUX':a_flux, 'B_FLUX':b_flux})\n",
    "#print(data, type(data))"
   ]
  },
  {
   "cell_type": "code",
   "execution_count": 12,
   "metadata": {},
   "outputs": [],
   "source": [
    "# X-ray Flux data: Time 열을 datetime으로 변경, '숫자' 자료형 부여\n",
    "data_P = data.copy()\n",
    "data_P['Time'] = pd.to_datetime(data_P['Time'])\n",
    "data_P['A_FLUX'] = pd.to_numeric(data_P['A_FLUX'])\n",
    "data_P['B_FLUX'] = pd.to_numeric(data_P['B_FLUX'])\n",
    "#print(data_P)\n",
    "#print(data_P.dtypes)"
   ]
  },
  {
   "cell_type": "code",
   "execution_count": 13,
   "metadata": {},
   "outputs": [],
   "source": [
    "# X-ray Flux data: 보간을 위한 데이터 프레임 생성\n",
    "data_Interp = data_P.copy()\n",
    "#print(data_Interp.dtypes)\n",
    "\n",
    "#print(data_Interp['A_FLUX'][0:10])"
   ]
  },
  {
   "cell_type": "code",
   "execution_count": 14,
   "metadata": {},
   "outputs": [],
   "source": [
    "# X-ray Flux data: 데이터 보간\n",
    "import numpy as np\n",
    "import warnings\n",
    "warnings.filterwarnings('ignore')\n",
    "\n",
    "for i in Error_ind:\n",
    "    data_Interp['A_FLUX'][i] = np.nan\n",
    "    data_Interp['B_FLUX'][i] = np.nan\n",
    "data_Interp.interpolate(method='linear', inplace=True)\n",
    "\n",
    "#print(data_Interp['A_FLUX'][0:10])"
   ]
  },
  {
   "cell_type": "code",
   "execution_count": 15,
   "metadata": {},
   "outputs": [],
   "source": [
    "# X-ray Flux data: resampling\n",
    "data_Res = data_Interp.copy()\n",
    "data_Res = data_Res.set_index('Time')\n",
    "data_Res = data_Res.resample('1T').mean()\n",
    "#print(data_Res)"
   ]
  },
  {
   "cell_type": "code",
   "execution_count": 16,
   "metadata": {},
   "outputs": [],
   "source": [
    "# Proton Flux data: resampled data 저장\n",
    "\n",
    "newFile = '/Users/chuck/Desktop/3-1/우주환경1/우주환경1 과제/GOES-15 xrs csv/total/g15_xrs_32s_resampled.txt'\n",
    "data_Res.to_csv(newFile)"
   ]
  }
 ],
 "metadata": {
  "kernelspec": {
   "display_name": "myenv",
   "language": "python",
   "name": "myenv"
  },
  "language_info": {
   "codemirror_mode": {
    "name": "ipython",
    "version": 3
   },
   "file_extension": ".py",
   "mimetype": "text/x-python",
   "name": "python",
   "nbconvert_exporter": "python",
   "pygments_lexer": "ipython3",
   "version": "3.11.5"
  }
 },
 "nbformat": 4,
 "nbformat_minor": 2
}
